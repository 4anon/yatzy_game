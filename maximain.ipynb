{
 "cells": [
  {
   "cell_type": "code",
   "execution_count": 2,
   "id": "a30b188f-6351-4a12-86ea-760da1b1d04d",
   "metadata": {},
   "outputs": [
    {
     "name": "stdin",
     "output_type": "stream",
     "text": [
      "Enter the number of players:  2\n",
      "Enter a name for player 1:  achilles\n",
      "Enter a name for player 2:  liam\n"
     ]
    },
    {
     "name": "stdout",
     "output_type": "stream",
     "text": [
      "no available highscore\n",
      "achilles's TURN\n",
      "Current roll: [4, 5, 5, 4, 2, 5]\n"
     ]
    },
    {
     "name": "stdin",
     "output_type": "stream",
     "text": [
      "Which dice do you want to reroll? (Enter positions separated by spaces, or 'n' for no rerolls):  2 3\n"
     ]
    },
    {
     "name": "stdout",
     "output_type": "stream",
     "text": [
      "Your new roll: [4, 3, 5, 4, 2, 5]\n",
      "twos:your value:2\n",
      "threes:your value:3\n",
      "fours:your value:8\n",
      "fives:your value:10\n",
      "one pair:your value:10\n",
      "two pairs:your value:18\n",
      "chance:your value:23\n"
     ]
    },
    {
     "name": "stdin",
     "output_type": "stream",
     "text": [
      "Would you like to reroll again? (y/n):  n\n"
     ]
    },
    {
     "name": "stdout",
     "output_type": "stream",
     "text": [
      "\n",
      "Proceeding to category choice...\n"
     ]
    },
    {
     "name": "stdin",
     "output_type": "stream",
     "text": [
      "Enter a category:  ones\n"
     ]
    },
    {
     "name": "stdout",
     "output_type": "stream",
     "text": [
      "You scored 0 points in the ones\n",
      "Category: ones, Score: 0\n",
      "\n",
      "Achilles:\n",
      "SCOREBOARD\n",
      "ones:0\n",
      "twos:     \n",
      "threes:     \n",
      "fours:     \n",
      "fives:     \n",
      "sixes:     \n",
      "one pair:     \n",
      "two pairs:     \n",
      "three of a kind:     \n",
      "four of a kind:     \n",
      "five of a kind:     \n",
      "small straight:     \n",
      "large straight:     \n",
      "fullstraight:     \n",
      "villa:     \n",
      "tower:     \n",
      "full house:     \n",
      "chance:     \n",
      "yatzy:     \n",
      "\n",
      "Your current total score is: 0\n",
      "liam's TURN\n",
      "Current roll: [2, 2, 6, 4, 1, 2]\n"
     ]
    },
    {
     "name": "stdin",
     "output_type": "stream",
     "text": [
      "Which dice do you want to reroll? (Enter positions separated by spaces, or 'n' for no rerolls):  n\n"
     ]
    },
    {
     "name": "stdout",
     "output_type": "stream",
     "text": [
      "No rerolls selected\n",
      "ones:your value:1\n",
      "twos:your value:6\n",
      "fours:your value:4\n",
      "sixes:your value:6\n",
      "one pair:your value:4\n",
      "three of a kind:your value:6\n",
      "chance:your value:17\n",
      "\n",
      "Proceeding to category choice...\n"
     ]
    },
    {
     "name": "stdin",
     "output_type": "stream",
     "text": [
      "Enter a category:  ones\n"
     ]
    },
    {
     "name": "stdout",
     "output_type": "stream",
     "text": [
      "You scored 1 points in the ones\n",
      "Category: ones, Score: 1\n",
      "\n",
      "Liam:\n",
      "SCOREBOARD\n",
      "ones:1\n",
      "twos:     \n",
      "threes:     \n",
      "fours:     \n",
      "fives:     \n",
      "sixes:     \n",
      "one pair:     \n",
      "two pairs:     \n",
      "three of a kind:     \n",
      "four of a kind:     \n",
      "five of a kind:     \n",
      "small straight:     \n",
      "large straight:     \n",
      "fullstraight:     \n",
      "villa:     \n",
      "tower:     \n",
      "full house:     \n",
      "chance:     \n",
      "yatzy:     \n",
      "\n",
      "Your current total score is: 1\n",
      "achilles's TURN\n",
      "Current roll: [5, 6, 5, 4, 2, 1]\n"
     ]
    },
    {
     "name": "stdin",
     "output_type": "stream",
     "text": [
      "Which dice do you want to reroll? (Enter positions separated by spaces, or 'n' for no rerolls):  n\n"
     ]
    },
    {
     "name": "stdout",
     "output_type": "stream",
     "text": [
      "No rerolls selected\n",
      "ones:your value:1\n",
      "twos:your value:2\n",
      "fours:your value:4\n",
      "fives:your value:10\n",
      "sixes:your value:6\n",
      "one pair:your value:10\n",
      "chance:your value:23\n",
      "\n",
      "Proceeding to category choice...\n"
     ]
    },
    {
     "name": "stdin",
     "output_type": "stream",
     "text": [
      "Enter a category:  twos\n"
     ]
    },
    {
     "name": "stdout",
     "output_type": "stream",
     "text": [
      "You scored 2 points in the twos\n",
      "Category: twos, Score: 2\n",
      "\n",
      "Achilles:\n",
      "SCOREBOARD\n",
      "ones:0\n",
      "twos:2\n",
      "threes:     \n",
      "fours:     \n",
      "fives:     \n",
      "sixes:     \n",
      "one pair:     \n",
      "two pairs:     \n",
      "three of a kind:     \n",
      "four of a kind:     \n",
      "five of a kind:     \n",
      "small straight:     \n",
      "large straight:     \n",
      "fullstraight:     \n",
      "villa:     \n",
      "tower:     \n",
      "full house:     \n",
      "chance:     \n",
      "yatzy:     \n",
      "\n",
      "Your current total score is: 2\n",
      "liam's TURN\n",
      "Current roll: [6, 1, 5, 6, 6, 1]\n"
     ]
    },
    {
     "name": "stdin",
     "output_type": "stream",
     "text": [
      "Which dice do you want to reroll? (Enter positions separated by spaces, or 'n' for no rerolls):  n\n"
     ]
    },
    {
     "name": "stdout",
     "output_type": "stream",
     "text": [
      "No rerolls selected\n",
      "ones:your value:2\n",
      "fives:your value:5\n",
      "sixes:your value:18\n",
      "one pair:your value:12\n",
      "two pairs:your value:14\n",
      "three of a kind:your value:18\n",
      "chance:your value:25\n",
      "\n",
      "Proceeding to category choice...\n"
     ]
    },
    {
     "name": "stdin",
     "output_type": "stream",
     "text": [
      "Enter a category:  twos\n"
     ]
    },
    {
     "name": "stdout",
     "output_type": "stream",
     "text": [
      "You scored 0 points in the twos\n",
      "Category: twos, Score: 0\n",
      "\n",
      "Liam:\n",
      "SCOREBOARD\n",
      "ones:1\n",
      "twos:0\n",
      "threes:     \n",
      "fours:     \n",
      "fives:     \n",
      "sixes:     \n",
      "one pair:     \n",
      "two pairs:     \n",
      "three of a kind:     \n",
      "four of a kind:     \n",
      "five of a kind:     \n",
      "small straight:     \n",
      "large straight:     \n",
      "fullstraight:     \n",
      "villa:     \n",
      "tower:     \n",
      "full house:     \n",
      "chance:     \n",
      "yatzy:     \n",
      "\n",
      "Your current total score is: 1\n",
      "achilles's TURN\n",
      "Current roll: [1, 4, 6, 4, 1, 1]\n"
     ]
    },
    {
     "name": "stdin",
     "output_type": "stream",
     "text": [
      "Which dice do you want to reroll? (Enter positions separated by spaces, or 'n' for no rerolls):  n\n"
     ]
    },
    {
     "name": "stdout",
     "output_type": "stream",
     "text": [
      "No rerolls selected\n",
      "ones:your value:3\n",
      "fours:your value:8\n",
      "sixes:your value:6\n",
      "one pair:your value:8\n",
      "two pairs:your value:10\n",
      "three of a kind:your value:3\n",
      "chance:your value:17\n",
      "\n",
      "Proceeding to category choice...\n"
     ]
    },
    {
     "name": "stdin",
     "output_type": "stream",
     "text": [
      "Enter a category:  threes\n"
     ]
    },
    {
     "name": "stdout",
     "output_type": "stream",
     "text": [
      "You scored 0 points in the threes\n",
      "Category: threes, Score: 0\n",
      "\n",
      "Achilles:\n",
      "SCOREBOARD\n",
      "ones:0\n",
      "twos:2\n",
      "threes:0\n",
      "fours:     \n",
      "fives:     \n",
      "sixes:     \n",
      "one pair:     \n",
      "two pairs:     \n",
      "three of a kind:     \n",
      "four of a kind:     \n",
      "five of a kind:     \n",
      "small straight:     \n",
      "large straight:     \n",
      "fullstraight:     \n",
      "villa:     \n",
      "tower:     \n",
      "full house:     \n",
      "chance:     \n",
      "yatzy:     \n",
      "\n",
      "Your current total score is: 2\n",
      "liam's TURN\n",
      "Current roll: [3, 1, 3, 4, 2, 5]\n"
     ]
    },
    {
     "name": "stdin",
     "output_type": "stream",
     "text": [
      "Which dice do you want to reroll? (Enter positions separated by spaces, or 'n' for no rerolls):  n\n"
     ]
    },
    {
     "name": "stdout",
     "output_type": "stream",
     "text": [
      "No rerolls selected\n",
      "ones:your value:1\n",
      "twos:your value:2\n",
      "threes:your value:6\n",
      "fours:your value:4\n",
      "fives:your value:5\n",
      "one pair:your value:6\n",
      "small straight:your value:15\n",
      "chance:your value:18\n",
      "\n",
      "Proceeding to category choice...\n"
     ]
    },
    {
     "name": "stdin",
     "output_type": "stream",
     "text": [
      "Enter a category:  threes\n"
     ]
    },
    {
     "name": "stdout",
     "output_type": "stream",
     "text": [
      "You scored 6 points in the threes\n",
      "Category: threes, Score: 6\n",
      "\n",
      "Liam:\n",
      "SCOREBOARD\n",
      "ones:1\n",
      "twos:0\n",
      "threes:6\n",
      "fours:     \n",
      "fives:     \n",
      "sixes:     \n",
      "one pair:     \n",
      "two pairs:     \n",
      "three of a kind:     \n",
      "four of a kind:     \n",
      "five of a kind:     \n",
      "small straight:     \n",
      "large straight:     \n",
      "fullstraight:     \n",
      "villa:     \n",
      "tower:     \n",
      "full house:     \n",
      "chance:     \n",
      "yatzy:     \n",
      "\n",
      "Your current total score is: 7\n",
      "achilles's TURN\n",
      "Current roll: [4, 1, 6, 4, 4, 3]\n"
     ]
    },
    {
     "name": "stdin",
     "output_type": "stream",
     "text": [
      "Which dice do you want to reroll? (Enter positions separated by spaces, or 'n' for no rerolls):  n\n"
     ]
    },
    {
     "name": "stdout",
     "output_type": "stream",
     "text": [
      "No rerolls selected\n",
      "ones:your value:1\n",
      "threes:your value:3\n",
      "fours:your value:12\n",
      "sixes:your value:6\n",
      "one pair:your value:8\n",
      "three of a kind:your value:12\n",
      "chance:your value:22\n",
      "\n",
      "Proceeding to category choice...\n"
     ]
    },
    {
     "name": "stdin",
     "output_type": "stream",
     "text": [
      "Enter a category:  fours\n"
     ]
    },
    {
     "name": "stdout",
     "output_type": "stream",
     "text": [
      "You scored 12 points in the fours\n",
      "Category: fours, Score: 12\n",
      "\n",
      "Achilles:\n",
      "SCOREBOARD\n",
      "ones:0\n",
      "twos:2\n",
      "threes:0\n",
      "fours:12\n",
      "fives:     \n",
      "sixes:     \n",
      "one pair:     \n",
      "two pairs:     \n",
      "three of a kind:     \n",
      "four of a kind:     \n",
      "five of a kind:     \n",
      "small straight:     \n",
      "large straight:     \n",
      "fullstraight:     \n",
      "villa:     \n",
      "tower:     \n",
      "full house:     \n",
      "chance:     \n",
      "yatzy:     \n",
      "\n",
      "Your current total score is: 14\n",
      "liam's TURN\n",
      "Current roll: [6, 4, 3, 3, 5, 5]\n"
     ]
    },
    {
     "name": "stdin",
     "output_type": "stream",
     "text": [
      "Which dice do you want to reroll? (Enter positions separated by spaces, or 'n' for no rerolls):  n\n"
     ]
    },
    {
     "name": "stdout",
     "output_type": "stream",
     "text": [
      "No rerolls selected\n",
      "threes:your value:6\n",
      "fours:your value:4\n",
      "fives:your value:10\n",
      "sixes:your value:6\n",
      "one pair:your value:10\n",
      "two pairs:your value:16\n",
      "chance:your value:26\n",
      "\n",
      "Proceeding to category choice...\n"
     ]
    },
    {
     "name": "stdin",
     "output_type": "stream",
     "text": [
      "Enter a category:  fours\n"
     ]
    },
    {
     "name": "stdout",
     "output_type": "stream",
     "text": [
      "You scored 4 points in the fours\n",
      "Category: fours, Score: 4\n",
      "\n",
      "Liam:\n",
      "SCOREBOARD\n",
      "ones:1\n",
      "twos:0\n",
      "threes:6\n",
      "fours:4\n",
      "fives:     \n",
      "sixes:     \n",
      "one pair:     \n",
      "two pairs:     \n",
      "three of a kind:     \n",
      "four of a kind:     \n",
      "five of a kind:     \n",
      "small straight:     \n",
      "large straight:     \n",
      "fullstraight:     \n",
      "villa:     \n",
      "tower:     \n",
      "full house:     \n",
      "chance:     \n",
      "yatzy:     \n",
      "\n",
      "Your current total score is: 11\n",
      "achilles's TURN\n",
      "Current roll: [1, 5, 3, 4, 5, 6]\n"
     ]
    },
    {
     "name": "stdin",
     "output_type": "stream",
     "text": [
      "Which dice do you want to reroll? (Enter positions separated by spaces, or 'n' for no rerolls):  n\n"
     ]
    },
    {
     "name": "stdout",
     "output_type": "stream",
     "text": [
      "No rerolls selected\n",
      "ones:your value:1\n",
      "threes:your value:3\n",
      "fours:your value:4\n",
      "fives:your value:10\n",
      "sixes:your value:6\n",
      "one pair:your value:10\n",
      "chance:your value:24\n",
      "\n",
      "Proceeding to category choice...\n"
     ]
    },
    {
     "name": "stdin",
     "output_type": "stream",
     "text": [
      "Enter a category:  fives\n"
     ]
    },
    {
     "name": "stdout",
     "output_type": "stream",
     "text": [
      "You scored 10 points in the fives\n",
      "Category: fives, Score: 10\n",
      "\n",
      "Achilles:\n",
      "SCOREBOARD\n",
      "ones:0\n",
      "twos:2\n",
      "threes:0\n",
      "fours:12\n",
      "fives:10\n",
      "sixes:     \n",
      "one pair:     \n",
      "two pairs:     \n",
      "three of a kind:     \n",
      "four of a kind:     \n",
      "five of a kind:     \n",
      "small straight:     \n",
      "large straight:     \n",
      "fullstraight:     \n",
      "villa:     \n",
      "tower:     \n",
      "full house:     \n",
      "chance:     \n",
      "yatzy:     \n",
      "\n",
      "Your current total score is: 24\n",
      "liam's TURN\n",
      "Current roll: [4, 3, 1, 2, 6, 6]\n"
     ]
    },
    {
     "name": "stdin",
     "output_type": "stream",
     "text": [
      "Which dice do you want to reroll? (Enter positions separated by spaces, or 'n' for no rerolls):  n\n"
     ]
    },
    {
     "name": "stdout",
     "output_type": "stream",
     "text": [
      "No rerolls selected\n",
      "ones:your value:1\n",
      "twos:your value:2\n",
      "threes:your value:3\n",
      "fours:your value:4\n",
      "sixes:your value:12\n",
      "one pair:your value:12\n",
      "chance:your value:22\n",
      "\n",
      "Proceeding to category choice...\n"
     ]
    },
    {
     "name": "stdin",
     "output_type": "stream",
     "text": [
      "Enter a category:  fives\n"
     ]
    },
    {
     "name": "stdout",
     "output_type": "stream",
     "text": [
      "You scored 0 points in the fives\n",
      "Category: fives, Score: 0\n",
      "\n",
      "Liam:\n",
      "SCOREBOARD\n",
      "ones:1\n",
      "twos:0\n",
      "threes:6\n",
      "fours:4\n",
      "fives:0\n",
      "sixes:     \n",
      "one pair:     \n",
      "two pairs:     \n",
      "three of a kind:     \n",
      "four of a kind:     \n",
      "five of a kind:     \n",
      "small straight:     \n",
      "large straight:     \n",
      "fullstraight:     \n",
      "villa:     \n",
      "tower:     \n",
      "full house:     \n",
      "chance:     \n",
      "yatzy:     \n",
      "\n",
      "Your current total score is: 11\n",
      "achilles's TURN\n",
      "Current roll: [6, 4, 6, 1, 5, 1]\n"
     ]
    },
    {
     "name": "stdin",
     "output_type": "stream",
     "text": [
      "Which dice do you want to reroll? (Enter positions separated by spaces, or 'n' for no rerolls):  n\n"
     ]
    },
    {
     "name": "stdout",
     "output_type": "stream",
     "text": [
      "No rerolls selected\n",
      "ones:your value:2\n",
      "fours:your value:4\n",
      "fives:your value:5\n",
      "sixes:your value:12\n",
      "one pair:your value:12\n",
      "two pairs:your value:14\n",
      "chance:your value:23\n",
      "\n",
      "Proceeding to category choice...\n"
     ]
    },
    {
     "name": "stdin",
     "output_type": "stream",
     "text": [
      "Enter a category:  sixes\n"
     ]
    },
    {
     "name": "stdout",
     "output_type": "stream",
     "text": [
      "You scored 12 points in the sixes\n",
      "Category: sixes, Score: 12\n",
      "\n",
      "Achilles:\n",
      "SCOREBOARD\n",
      "ones:0\n",
      "twos:2\n",
      "threes:0\n",
      "fours:12\n",
      "fives:10\n",
      "sixes:12\n",
      "one pair:     \n",
      "two pairs:     \n",
      "three of a kind:     \n",
      "four of a kind:     \n",
      "five of a kind:     \n",
      "small straight:     \n",
      "large straight:     \n",
      "fullstraight:     \n",
      "villa:     \n",
      "tower:     \n",
      "full house:     \n",
      "chance:     \n",
      "yatzy:     \n",
      "\n",
      "Your current total score is: 36\n",
      "liam's TURN\n",
      "Current roll: [4, 6, 4, 1, 4, 2]\n"
     ]
    },
    {
     "name": "stdin",
     "output_type": "stream",
     "text": [
      "Which dice do you want to reroll? (Enter positions separated by spaces, or 'n' for no rerolls):  n\n"
     ]
    },
    {
     "name": "stdout",
     "output_type": "stream",
     "text": [
      "No rerolls selected\n",
      "ones:your value:1\n",
      "twos:your value:2\n",
      "fours:your value:12\n",
      "sixes:your value:6\n",
      "one pair:your value:8\n",
      "three of a kind:your value:12\n",
      "chance:your value:21\n",
      "\n",
      "Proceeding to category choice...\n"
     ]
    },
    {
     "name": "stdin",
     "output_type": "stream",
     "text": [
      "Enter a category:  sixes\n"
     ]
    },
    {
     "name": "stdout",
     "output_type": "stream",
     "text": [
      "You scored 6 points in the sixes\n",
      "Category: sixes, Score: 6\n",
      "\n",
      "Liam:\n",
      "SCOREBOARD\n",
      "ones:1\n",
      "twos:0\n",
      "threes:6\n",
      "fours:4\n",
      "fives:0\n",
      "sixes:6\n",
      "one pair:     \n",
      "two pairs:     \n",
      "three of a kind:     \n",
      "four of a kind:     \n",
      "five of a kind:     \n",
      "small straight:     \n",
      "large straight:     \n",
      "fullstraight:     \n",
      "villa:     \n",
      "tower:     \n",
      "full house:     \n",
      "chance:     \n",
      "yatzy:     \n",
      "\n",
      "Your current total score is: 17\n",
      "achilles's TURN\n",
      "Current roll: [1, 2, 2, 6, 2, 1]\n"
     ]
    },
    {
     "name": "stdin",
     "output_type": "stream",
     "text": [
      "Which dice do you want to reroll? (Enter positions separated by spaces, or 'n' for no rerolls):  n\n"
     ]
    },
    {
     "name": "stdout",
     "output_type": "stream",
     "text": [
      "No rerolls selected\n",
      "ones:your value:2\n",
      "twos:your value:6\n",
      "sixes:your value:6\n",
      "one pair:your value:4\n",
      "two pairs:your value:6\n",
      "three of a kind:your value:6\n",
      "chance:your value:14\n",
      "\n",
      "Proceeding to category choice...\n"
     ]
    },
    {
     "name": "stdin",
     "output_type": "stream",
     "text": [
      "Enter a category:  one pair\n"
     ]
    },
    {
     "name": "stdout",
     "output_type": "stream",
     "text": [
      "You scored 4 points in the one pair\n",
      "Category: one pair, Score: 4\n",
      "\n",
      "Achilles:\n",
      "SCOREBOARD\n",
      "ones:0\n",
      "twos:2\n",
      "threes:0\n",
      "fours:12\n",
      "fives:10\n",
      "sixes:12\n",
      "one pair:4\n",
      "two pairs:     \n",
      "three of a kind:     \n",
      "four of a kind:     \n",
      "five of a kind:     \n",
      "small straight:     \n",
      "large straight:     \n",
      "fullstraight:     \n",
      "villa:     \n",
      "tower:     \n",
      "full house:     \n",
      "chance:     \n",
      "yatzy:     \n",
      "\n",
      "Your current total score is: 40\n",
      "liam's TURN\n",
      "Current roll: [3, 5, 3, 4, 5, 4]\n"
     ]
    },
    {
     "name": "stdin",
     "output_type": "stream",
     "text": [
      "Which dice do you want to reroll? (Enter positions separated by spaces, or 'n' for no rerolls):  n\n"
     ]
    },
    {
     "name": "stdout",
     "output_type": "stream",
     "text": [
      "No rerolls selected\n",
      "threes:your value:6\n",
      "fours:your value:8\n",
      "fives:your value:10\n",
      "one pair:your value:10\n",
      "two pairs:your value:16\n",
      "chance:your value:24\n",
      "\n",
      "Proceeding to category choice...\n"
     ]
    },
    {
     "name": "stdin",
     "output_type": "stream",
     "text": [
      "Enter a category:  one pair\n"
     ]
    },
    {
     "name": "stdout",
     "output_type": "stream",
     "text": [
      "You scored 10 points in the one pair\n",
      "Category: one pair, Score: 10\n",
      "\n",
      "Liam:\n",
      "SCOREBOARD\n",
      "ones:1\n",
      "twos:0\n",
      "threes:6\n",
      "fours:4\n",
      "fives:0\n",
      "sixes:6\n",
      "one pair:10\n",
      "two pairs:     \n",
      "three of a kind:     \n",
      "four of a kind:     \n",
      "five of a kind:     \n",
      "small straight:     \n",
      "large straight:     \n",
      "fullstraight:     \n",
      "villa:     \n",
      "tower:     \n",
      "full house:     \n",
      "chance:     \n",
      "yatzy:     \n",
      "\n",
      "Your current total score is: 27\n",
      "achilles's TURN\n",
      "Current roll: [5, 1, 5, 3, 5, 1]\n"
     ]
    },
    {
     "name": "stdin",
     "output_type": "stream",
     "text": [
      "Which dice do you want to reroll? (Enter positions separated by spaces, or 'n' for no rerolls):  n\n"
     ]
    },
    {
     "name": "stdout",
     "output_type": "stream",
     "text": [
      "No rerolls selected\n",
      "ones:your value:2\n",
      "threes:your value:3\n",
      "fives:your value:15\n",
      "one pair:your value:10\n",
      "two pairs:your value:12\n",
      "three of a kind:your value:15\n",
      "chance:your value:20\n",
      "\n",
      "Proceeding to category choice...\n"
     ]
    },
    {
     "name": "stdin",
     "output_type": "stream",
     "text": [
      "Enter a category:  two pairs\n"
     ]
    },
    {
     "name": "stdout",
     "output_type": "stream",
     "text": [
      "You scored 12 points in the two pairs\n",
      "Category: two pairs, Score: 12\n",
      "\n",
      "Achilles:\n",
      "SCOREBOARD\n",
      "ones:0\n",
      "twos:2\n",
      "threes:0\n",
      "fours:12\n",
      "fives:10\n",
      "sixes:12\n",
      "one pair:4\n",
      "two pairs:12\n",
      "three of a kind:     \n",
      "four of a kind:     \n",
      "five of a kind:     \n",
      "small straight:     \n",
      "large straight:     \n",
      "fullstraight:     \n",
      "villa:     \n",
      "tower:     \n",
      "full house:     \n",
      "chance:     \n",
      "yatzy:     \n",
      "\n",
      "Your current total score is: 52\n",
      "liam's TURN\n",
      "Current roll: [2, 2, 2, 4, 4, 4]\n"
     ]
    },
    {
     "name": "stdin",
     "output_type": "stream",
     "text": [
      "Which dice do you want to reroll? (Enter positions separated by spaces, or 'n' for no rerolls):  n\n"
     ]
    },
    {
     "name": "stdout",
     "output_type": "stream",
     "text": [
      "No rerolls selected\n",
      "twos:your value:6\n",
      "fours:your value:12\n",
      "one pair:your value:8\n",
      "two pairs:your value:12\n",
      "three of a kind:your value:6\n",
      "villa:your value:18\n",
      "chance:your value:18\n",
      "\n",
      "Proceeding to category choice...\n"
     ]
    },
    {
     "name": "stdin",
     "output_type": "stream",
     "text": [
      "Enter a category:  two pairs\n"
     ]
    },
    {
     "name": "stdout",
     "output_type": "stream",
     "text": [
      "You scored 12 points in the two pairs\n",
      "Category: two pairs, Score: 12\n",
      "\n",
      "Liam:\n",
      "SCOREBOARD\n",
      "ones:1\n",
      "twos:0\n",
      "threes:6\n",
      "fours:4\n",
      "fives:0\n",
      "sixes:6\n",
      "one pair:10\n",
      "two pairs:12\n",
      "three of a kind:     \n",
      "four of a kind:     \n",
      "five of a kind:     \n",
      "small straight:     \n",
      "large straight:     \n",
      "fullstraight:     \n",
      "villa:     \n",
      "tower:     \n",
      "full house:     \n",
      "chance:     \n",
      "yatzy:     \n",
      "\n",
      "Your current total score is: 39\n",
      "achilles's TURN\n",
      "Current roll: [6, 4, 1, 3, 2, 2]\n"
     ]
    },
    {
     "name": "stdin",
     "output_type": "stream",
     "text": [
      "Which dice do you want to reroll? (Enter positions separated by spaces, or 'n' for no rerolls):  n\n"
     ]
    },
    {
     "name": "stdout",
     "output_type": "stream",
     "text": [
      "No rerolls selected\n",
      "ones:your value:1\n",
      "twos:your value:4\n",
      "threes:your value:3\n",
      "fours:your value:4\n",
      "sixes:your value:6\n",
      "one pair:your value:4\n",
      "chance:your value:18\n",
      "\n",
      "Proceeding to category choice...\n"
     ]
    },
    {
     "name": "stdin",
     "output_type": "stream",
     "text": [
      "Enter a category:  three of a kind\n"
     ]
    },
    {
     "name": "stdout",
     "output_type": "stream",
     "text": [
      "You scored 0 points in the three of a kind\n",
      "Category: three of a kind, Score: 0\n",
      "\n",
      "Achilles:\n",
      "SCOREBOARD\n",
      "ones:0\n",
      "twos:2\n",
      "threes:0\n",
      "fours:12\n",
      "fives:10\n",
      "sixes:12\n",
      "one pair:4\n",
      "two pairs:12\n",
      "three of a kind:0\n",
      "four of a kind:     \n",
      "five of a kind:     \n",
      "small straight:     \n",
      "large straight:     \n",
      "fullstraight:     \n",
      "villa:     \n",
      "tower:     \n",
      "full house:     \n",
      "chance:     \n",
      "yatzy:     \n",
      "\n",
      "Your current total score is: 52\n",
      "liam's TURN\n",
      "Current roll: [1, 6, 1, 6, 2, 3]\n"
     ]
    },
    {
     "name": "stdin",
     "output_type": "stream",
     "text": [
      "Which dice do you want to reroll? (Enter positions separated by spaces, or 'n' for no rerolls):  n\n"
     ]
    },
    {
     "name": "stdout",
     "output_type": "stream",
     "text": [
      "No rerolls selected\n",
      "ones:your value:2\n",
      "twos:your value:2\n",
      "threes:your value:3\n",
      "sixes:your value:12\n",
      "one pair:your value:12\n",
      "two pairs:your value:14\n",
      "chance:your value:19\n",
      "\n",
      "Proceeding to category choice...\n"
     ]
    },
    {
     "name": "stdin",
     "output_type": "stream",
     "text": [
      "Enter a category:  three of a kind\n"
     ]
    },
    {
     "name": "stdout",
     "output_type": "stream",
     "text": [
      "You scored 0 points in the three of a kind\n",
      "Category: three of a kind, Score: 0\n",
      "\n",
      "Liam:\n",
      "SCOREBOARD\n",
      "ones:1\n",
      "twos:0\n",
      "threes:6\n",
      "fours:4\n",
      "fives:0\n",
      "sixes:6\n",
      "one pair:10\n",
      "two pairs:12\n",
      "three of a kind:0\n",
      "four of a kind:     \n",
      "five of a kind:     \n",
      "small straight:     \n",
      "large straight:     \n",
      "fullstraight:     \n",
      "villa:     \n",
      "tower:     \n",
      "full house:     \n",
      "chance:     \n",
      "yatzy:     \n",
      "\n",
      "Your current total score is: 39\n",
      "achilles's TURN\n",
      "Current roll: [5, 6, 1, 3, 6, 6]\n"
     ]
    },
    {
     "name": "stdin",
     "output_type": "stream",
     "text": [
      "Which dice do you want to reroll? (Enter positions separated by spaces, or 'n' for no rerolls):  n\n"
     ]
    },
    {
     "name": "stdout",
     "output_type": "stream",
     "text": [
      "No rerolls selected\n",
      "ones:your value:1\n",
      "threes:your value:3\n",
      "fives:your value:5\n",
      "sixes:your value:18\n",
      "one pair:your value:12\n",
      "three of a kind:your value:18\n",
      "chance:your value:27\n",
      "\n",
      "Proceeding to category choice...\n"
     ]
    },
    {
     "name": "stdin",
     "output_type": "stream",
     "text": [
      "Enter a category:  four of a kind\n"
     ]
    },
    {
     "name": "stdout",
     "output_type": "stream",
     "text": [
      "You scored 0 points in the four of a kind\n",
      "Category: four of a kind, Score: 0\n",
      "\n",
      "Achilles:\n",
      "SCOREBOARD\n",
      "ones:0\n",
      "twos:2\n",
      "threes:0\n",
      "fours:12\n",
      "fives:10\n",
      "sixes:12\n",
      "one pair:4\n",
      "two pairs:12\n",
      "three of a kind:0\n",
      "four of a kind:0\n",
      "five of a kind:     \n",
      "small straight:     \n",
      "large straight:     \n",
      "fullstraight:     \n",
      "villa:     \n",
      "tower:     \n",
      "full house:     \n",
      "chance:     \n",
      "yatzy:     \n",
      "\n",
      "Your current total score is: 52\n",
      "liam's TURN\n",
      "Current roll: [1, 4, 5, 1, 1, 4]\n"
     ]
    },
    {
     "name": "stdin",
     "output_type": "stream",
     "text": [
      "Which dice do you want to reroll? (Enter positions separated by spaces, or 'n' for no rerolls):  n\n"
     ]
    },
    {
     "name": "stdout",
     "output_type": "stream",
     "text": [
      "No rerolls selected\n",
      "ones:your value:3\n",
      "fours:your value:8\n",
      "fives:your value:5\n",
      "one pair:your value:8\n",
      "two pairs:your value:10\n",
      "three of a kind:your value:3\n",
      "chance:your value:16\n",
      "\n",
      "Proceeding to category choice...\n"
     ]
    },
    {
     "name": "stdin",
     "output_type": "stream",
     "text": [
      "Enter a category:  five of a kind\n"
     ]
    },
    {
     "name": "stdout",
     "output_type": "stream",
     "text": [
      "You scored 0 points in the five of a kind\n",
      "Category: five of a kind, Score: 0\n",
      "\n",
      "Liam:\n",
      "SCOREBOARD\n",
      "ones:1\n",
      "twos:0\n",
      "threes:6\n",
      "fours:4\n",
      "fives:0\n",
      "sixes:6\n",
      "one pair:10\n",
      "two pairs:12\n",
      "three of a kind:0\n",
      "four of a kind:     \n",
      "five of a kind:0\n",
      "small straight:     \n",
      "large straight:     \n",
      "fullstraight:     \n",
      "villa:     \n",
      "tower:     \n",
      "full house:     \n",
      "chance:     \n",
      "yatzy:     \n",
      "\n",
      "Your current total score is: 39\n",
      "achilles's TURN\n",
      "Current roll: [3, 4, 3, 4, 4, 1]\n"
     ]
    },
    {
     "name": "stdin",
     "output_type": "stream",
     "text": [
      "Which dice do you want to reroll? (Enter positions separated by spaces, or 'n' for no rerolls):  n\n"
     ]
    },
    {
     "name": "stdout",
     "output_type": "stream",
     "text": [
      "No rerolls selected\n",
      "ones:your value:1\n",
      "threes:your value:6\n",
      "fours:your value:12\n",
      "one pair:your value:8\n",
      "two pairs:your value:14\n",
      "three of a kind:your value:12\n",
      "chance:your value:19\n",
      "\n",
      "Proceeding to category choice...\n"
     ]
    },
    {
     "name": "stdin",
     "output_type": "stream",
     "text": [
      "Enter a category:  small straight\n"
     ]
    },
    {
     "name": "stdout",
     "output_type": "stream",
     "text": [
      "You scored 0 points in the small straight\n",
      "Category: small straight, Score: 0\n",
      "\n",
      "Achilles:\n",
      "SCOREBOARD\n",
      "ones:0\n",
      "twos:2\n",
      "threes:0\n",
      "fours:12\n",
      "fives:10\n",
      "sixes:12\n",
      "one pair:4\n",
      "two pairs:12\n",
      "three of a kind:0\n",
      "four of a kind:0\n",
      "five of a kind:     \n",
      "small straight:0\n",
      "large straight:     \n",
      "fullstraight:     \n",
      "villa:     \n",
      "tower:     \n",
      "full house:     \n",
      "chance:     \n",
      "yatzy:     \n",
      "\n",
      "Your current total score is: 52\n",
      "liam's TURN\n",
      "Current roll: [2, 5, 3, 2, 5, 1]\n"
     ]
    },
    {
     "name": "stdin",
     "output_type": "stream",
     "text": [
      "Which dice do you want to reroll? (Enter positions separated by spaces, or 'n' for no rerolls):  n\n"
     ]
    },
    {
     "name": "stdout",
     "output_type": "stream",
     "text": [
      "No rerolls selected\n",
      "ones:your value:1\n",
      "twos:your value:4\n",
      "threes:your value:3\n",
      "fives:your value:10\n",
      "one pair:your value:10\n",
      "two pairs:your value:14\n",
      "chance:your value:18\n",
      "\n",
      "Proceeding to category choice...\n"
     ]
    },
    {
     "name": "stdin",
     "output_type": "stream",
     "text": [
      "Enter a category:  five of a kind\n"
     ]
    },
    {
     "name": "stdout",
     "output_type": "stream",
     "text": [
      "This category is filled, choose a different one\n",
      "Either all categories are filled or invalid category. Try again.\n"
     ]
    },
    {
     "name": "stdin",
     "output_type": "stream",
     "text": [
      "Enter a category:  four of a kind\n"
     ]
    },
    {
     "name": "stdout",
     "output_type": "stream",
     "text": [
      "You scored 0 points in the four of a kind\n",
      "Category: four of a kind, Score: 0\n",
      "\n",
      "Liam:\n",
      "SCOREBOARD\n",
      "ones:1\n",
      "twos:0\n",
      "threes:6\n",
      "fours:4\n",
      "fives:0\n",
      "sixes:6\n",
      "one pair:10\n",
      "two pairs:12\n",
      "three of a kind:0\n",
      "four of a kind:0\n",
      "five of a kind:0\n",
      "small straight:     \n",
      "large straight:     \n",
      "fullstraight:     \n",
      "villa:     \n",
      "tower:     \n",
      "full house:     \n",
      "chance:     \n",
      "yatzy:     \n",
      "\n",
      "Your current total score is: 39\n",
      "achilles's TURN\n",
      "Current roll: [4, 5, 1, 1, 4, 2]\n"
     ]
    },
    {
     "name": "stdin",
     "output_type": "stream",
     "text": [
      "Which dice do you want to reroll? (Enter positions separated by spaces, or 'n' for no rerolls):  n\n"
     ]
    },
    {
     "name": "stdout",
     "output_type": "stream",
     "text": [
      "No rerolls selected\n",
      "ones:your value:2\n",
      "twos:your value:2\n",
      "fours:your value:8\n",
      "fives:your value:5\n",
      "one pair:your value:8\n",
      "two pairs:your value:10\n",
      "chance:your value:17\n",
      "\n",
      "Proceeding to category choice...\n"
     ]
    },
    {
     "name": "stdin",
     "output_type": "stream",
     "text": [
      "Enter a category:  fullstraight\n"
     ]
    },
    {
     "name": "stdout",
     "output_type": "stream",
     "text": [
      "You scored 0 points in the fullstraight\n",
      "Category: fullstraight, Score: 0\n",
      "\n",
      "Achilles:\n",
      "SCOREBOARD\n",
      "ones:0\n",
      "twos:2\n",
      "threes:0\n",
      "fours:12\n",
      "fives:10\n",
      "sixes:12\n",
      "one pair:4\n",
      "two pairs:12\n",
      "three of a kind:0\n",
      "four of a kind:0\n",
      "five of a kind:     \n",
      "small straight:0\n",
      "large straight:     \n",
      "fullstraight:0\n",
      "villa:     \n",
      "tower:     \n",
      "full house:     \n",
      "chance:     \n",
      "yatzy:     \n",
      "\n",
      "Your current total score is: 52\n",
      "liam's TURN\n",
      "Current roll: [2, 5, 3, 3, 4, 1]\n"
     ]
    },
    {
     "name": "stdin",
     "output_type": "stream",
     "text": [
      "Which dice do you want to reroll? (Enter positions separated by spaces, or 'n' for no rerolls):  n\n"
     ]
    },
    {
     "name": "stdout",
     "output_type": "stream",
     "text": [
      "No rerolls selected\n",
      "ones:your value:1\n",
      "twos:your value:2\n",
      "threes:your value:6\n",
      "fours:your value:4\n",
      "fives:your value:5\n",
      "one pair:your value:6\n",
      "small straight:your value:15\n",
      "chance:your value:18\n",
      "\n",
      "Proceeding to category choice...\n"
     ]
    },
    {
     "name": "stdin",
     "output_type": "stream",
     "text": [
      "Enter a category:  smallstraight\n"
     ]
    },
    {
     "name": "stdout",
     "output_type": "stream",
     "text": [
      "Invalid category, try again\n",
      "Either all categories are filled or invalid category. Try again.\n"
     ]
    },
    {
     "name": "stdin",
     "output_type": "stream",
     "text": [
      "Enter a category:  small straight\n"
     ]
    },
    {
     "name": "stdout",
     "output_type": "stream",
     "text": [
      "You scored 15 points in the small straight\n",
      "Category: small straight, Score: 15\n",
      "\n",
      "Liam:\n",
      "SCOREBOARD\n",
      "ones:1\n",
      "twos:0\n",
      "threes:6\n",
      "fours:4\n",
      "fives:0\n",
      "sixes:6\n",
      "one pair:10\n",
      "two pairs:12\n",
      "three of a kind:0\n",
      "four of a kind:0\n",
      "five of a kind:0\n",
      "small straight:15\n",
      "large straight:     \n",
      "fullstraight:     \n",
      "villa:     \n",
      "tower:     \n",
      "full house:     \n",
      "chance:     \n",
      "yatzy:     \n",
      "\n",
      "Your current total score is: 54\n",
      "achilles's TURN\n",
      "Current roll: [3, 3, 2, 6, 2, 5]\n"
     ]
    },
    {
     "name": "stdin",
     "output_type": "stream",
     "text": [
      "Which dice do you want to reroll? (Enter positions separated by spaces, or 'n' for no rerolls):  n\n"
     ]
    },
    {
     "name": "stdout",
     "output_type": "stream",
     "text": [
      "No rerolls selected\n",
      "twos:your value:4\n",
      "threes:your value:6\n",
      "fives:your value:5\n",
      "sixes:your value:6\n",
      "one pair:your value:6\n",
      "two pairs:your value:10\n",
      "chance:your value:21\n",
      "\n",
      "Proceeding to category choice...\n"
     ]
    },
    {
     "name": "stdin",
     "output_type": "stream",
     "text": [
      "Enter a category:  large straight\n"
     ]
    },
    {
     "name": "stdout",
     "output_type": "stream",
     "text": [
      "You scored 0 points in the large straight\n",
      "Category: large straight, Score: 0\n",
      "\n",
      "Achilles:\n",
      "SCOREBOARD\n",
      "ones:0\n",
      "twos:2\n",
      "threes:0\n",
      "fours:12\n",
      "fives:10\n",
      "sixes:12\n",
      "one pair:4\n",
      "two pairs:12\n",
      "three of a kind:0\n",
      "four of a kind:0\n",
      "five of a kind:     \n",
      "small straight:0\n",
      "large straight:0\n",
      "fullstraight:0\n",
      "villa:     \n",
      "tower:     \n",
      "full house:     \n",
      "chance:     \n",
      "yatzy:     \n",
      "\n",
      "Your current total score is: 52\n",
      "liam's TURN\n",
      "Current roll: [5, 3, 4, 3, 2, 1]\n"
     ]
    },
    {
     "name": "stdin",
     "output_type": "stream",
     "text": [
      "Which dice do you want to reroll? (Enter positions separated by spaces, or 'n' for no rerolls):  n\n"
     ]
    },
    {
     "name": "stdout",
     "output_type": "stream",
     "text": [
      "No rerolls selected\n",
      "ones:your value:1\n",
      "twos:your value:2\n",
      "threes:your value:6\n",
      "fours:your value:4\n",
      "fives:your value:5\n",
      "one pair:your value:6\n",
      "small straight:your value:15\n",
      "chance:your value:18\n",
      "\n",
      "Proceeding to category choice...\n"
     ]
    },
    {
     "name": "stdin",
     "output_type": "stream",
     "text": [
      "Enter a category:  large straight\n"
     ]
    },
    {
     "name": "stdout",
     "output_type": "stream",
     "text": [
      "You scored 0 points in the large straight\n",
      "Category: large straight, Score: 0\n",
      "\n",
      "Liam:\n",
      "SCOREBOARD\n",
      "ones:1\n",
      "twos:0\n",
      "threes:6\n",
      "fours:4\n",
      "fives:0\n",
      "sixes:6\n",
      "one pair:10\n",
      "two pairs:12\n",
      "three of a kind:0\n",
      "four of a kind:0\n",
      "five of a kind:0\n",
      "small straight:15\n",
      "large straight:0\n",
      "fullstraight:     \n",
      "villa:     \n",
      "tower:     \n",
      "full house:     \n",
      "chance:     \n",
      "yatzy:     \n",
      "\n",
      "Your current total score is: 54\n",
      "achilles's TURN\n",
      "Current roll: [1, 2, 6, 2, 2, 1]\n"
     ]
    },
    {
     "name": "stdin",
     "output_type": "stream",
     "text": [
      "Which dice do you want to reroll? (Enter positions separated by spaces, or 'n' for no rerolls):  n\n"
     ]
    },
    {
     "name": "stdout",
     "output_type": "stream",
     "text": [
      "No rerolls selected\n",
      "ones:your value:2\n",
      "twos:your value:6\n",
      "sixes:your value:6\n",
      "one pair:your value:4\n",
      "two pairs:your value:6\n",
      "three of a kind:your value:6\n",
      "chance:your value:14\n",
      "\n",
      "Proceeding to category choice...\n"
     ]
    },
    {
     "name": "stdin",
     "output_type": "stream",
     "text": [
      "Enter a category:  villa\n"
     ]
    },
    {
     "name": "stdout",
     "output_type": "stream",
     "text": [
      "You scored 0 points in the villa\n",
      "Category: villa, Score: 0\n",
      "\n",
      "Achilles:\n",
      "SCOREBOARD\n",
      "ones:0\n",
      "twos:2\n",
      "threes:0\n",
      "fours:12\n",
      "fives:10\n",
      "sixes:12\n",
      "one pair:4\n",
      "two pairs:12\n",
      "three of a kind:0\n",
      "four of a kind:0\n",
      "five of a kind:     \n",
      "small straight:0\n",
      "large straight:0\n",
      "fullstraight:0\n",
      "villa:0\n",
      "tower:     \n",
      "full house:     \n",
      "chance:     \n",
      "yatzy:     \n",
      "\n",
      "Your current total score is: 52\n",
      "liam's TURN\n",
      "Current roll: [4, 4, 5, 5, 5, 1]\n"
     ]
    },
    {
     "name": "stdin",
     "output_type": "stream",
     "text": [
      "Which dice do you want to reroll? (Enter positions separated by spaces, or 'n' for no rerolls):  n\n"
     ]
    },
    {
     "name": "stdout",
     "output_type": "stream",
     "text": [
      "No rerolls selected\n",
      "ones:your value:1\n",
      "fours:your value:8\n",
      "fives:your value:15\n",
      "one pair:your value:10\n",
      "two pairs:your value:18\n",
      "three of a kind:your value:15\n",
      "chance:your value:24\n",
      "\n",
      "Proceeding to category choice...\n"
     ]
    },
    {
     "name": "stdin",
     "output_type": "stream",
     "text": [
      "Enter a category:  tower\n"
     ]
    },
    {
     "name": "stdout",
     "output_type": "stream",
     "text": [
      "You scored 0 points in the tower\n",
      "Category: tower, Score: 0\n",
      "\n",
      "Liam:\n",
      "SCOREBOARD\n",
      "ones:1\n",
      "twos:0\n",
      "threes:6\n",
      "fours:4\n",
      "fives:0\n",
      "sixes:6\n",
      "one pair:10\n",
      "two pairs:12\n",
      "three of a kind:0\n",
      "four of a kind:0\n",
      "five of a kind:0\n",
      "small straight:15\n",
      "large straight:0\n",
      "fullstraight:     \n",
      "villa:     \n",
      "tower:0\n",
      "full house:     \n",
      "chance:     \n",
      "yatzy:     \n",
      "\n",
      "Your current total score is: 54\n",
      "achilles's TURN\n",
      "Current roll: [1, 5, 2, 3, 1, 6]\n"
     ]
    },
    {
     "name": "stdin",
     "output_type": "stream",
     "text": [
      "Which dice do you want to reroll? (Enter positions separated by spaces, or 'n' for no rerolls):  n\n"
     ]
    },
    {
     "name": "stdout",
     "output_type": "stream",
     "text": [
      "No rerolls selected\n",
      "ones:your value:2\n",
      "twos:your value:2\n",
      "threes:your value:3\n",
      "fives:your value:5\n",
      "sixes:your value:6\n",
      "one pair:your value:2\n",
      "chance:your value:18\n",
      "\n",
      "Proceeding to category choice...\n"
     ]
    },
    {
     "name": "stdin",
     "output_type": "stream",
     "text": [
      "Enter a category:  tower\n"
     ]
    },
    {
     "name": "stdout",
     "output_type": "stream",
     "text": [
      "You scored 0 points in the tower\n",
      "Category: tower, Score: 0\n",
      "\n",
      "Achilles:\n",
      "SCOREBOARD\n",
      "ones:0\n",
      "twos:2\n",
      "threes:0\n",
      "fours:12\n",
      "fives:10\n",
      "sixes:12\n",
      "one pair:4\n",
      "two pairs:12\n",
      "three of a kind:0\n",
      "four of a kind:0\n",
      "five of a kind:     \n",
      "small straight:0\n",
      "large straight:0\n",
      "fullstraight:0\n",
      "villa:0\n",
      "tower:0\n",
      "full house:     \n",
      "chance:     \n",
      "yatzy:     \n",
      "\n",
      "Your current total score is: 52\n",
      "liam's TURN\n",
      "Current roll: [6, 4, 2, 2, 4, 2]\n"
     ]
    },
    {
     "name": "stdin",
     "output_type": "stream",
     "text": [
      "Which dice do you want to reroll? (Enter positions separated by spaces, or 'n' for no rerolls):  n\n"
     ]
    },
    {
     "name": "stdout",
     "output_type": "stream",
     "text": [
      "No rerolls selected\n",
      "twos:your value:6\n",
      "fours:your value:8\n",
      "sixes:your value:6\n",
      "one pair:your value:8\n",
      "two pairs:your value:12\n",
      "three of a kind:your value:6\n",
      "chance:your value:20\n",
      "\n",
      "Proceeding to category choice...\n"
     ]
    },
    {
     "name": "stdin",
     "output_type": "stream",
     "text": [
      "Enter a category:  full house\n"
     ]
    },
    {
     "name": "stdout",
     "output_type": "stream",
     "text": [
      "You scored 0 points in the full house\n",
      "Category: full house, Score: 0\n",
      "\n",
      "Liam:\n",
      "SCOREBOARD\n",
      "ones:1\n",
      "twos:0\n",
      "threes:6\n",
      "fours:4\n",
      "fives:0\n",
      "sixes:6\n",
      "one pair:10\n",
      "two pairs:12\n",
      "three of a kind:0\n",
      "four of a kind:0\n",
      "five of a kind:0\n",
      "small straight:15\n",
      "large straight:0\n",
      "fullstraight:     \n",
      "villa:     \n",
      "tower:0\n",
      "full house:0\n",
      "chance:     \n",
      "yatzy:     \n",
      "\n",
      "Your current total score is: 54\n",
      "achilles's TURN\n",
      "Current roll: [1, 5, 2, 3, 1, 6]\n"
     ]
    },
    {
     "name": "stdin",
     "output_type": "stream",
     "text": [
      "Which dice do you want to reroll? (Enter positions separated by spaces, or 'n' for no rerolls):  n\n"
     ]
    },
    {
     "name": "stdout",
     "output_type": "stream",
     "text": [
      "No rerolls selected\n",
      "ones:your value:2\n",
      "twos:your value:2\n",
      "threes:your value:3\n",
      "fives:your value:5\n",
      "sixes:your value:6\n",
      "one pair:your value:2\n",
      "chance:your value:18\n",
      "\n",
      "Proceeding to category choice...\n"
     ]
    },
    {
     "name": "stdin",
     "output_type": "stream",
     "text": [
      "Enter a category:  full house\n"
     ]
    },
    {
     "name": "stdout",
     "output_type": "stream",
     "text": [
      "You scored 0 points in the full house\n",
      "Category: full house, Score: 0\n",
      "\n",
      "Achilles:\n",
      "SCOREBOARD\n",
      "ones:0\n",
      "twos:2\n",
      "threes:0\n",
      "fours:12\n",
      "fives:10\n",
      "sixes:12\n",
      "one pair:4\n",
      "two pairs:12\n",
      "three of a kind:0\n",
      "four of a kind:0\n",
      "five of a kind:     \n",
      "small straight:0\n",
      "large straight:0\n",
      "fullstraight:0\n",
      "villa:0\n",
      "tower:0\n",
      "full house:0\n",
      "chance:     \n",
      "yatzy:     \n",
      "\n",
      "Your current total score is: 52\n",
      "liam's TURN\n",
      "Current roll: [1, 3, 6, 5, 2, 1]\n"
     ]
    },
    {
     "name": "stdin",
     "output_type": "stream",
     "text": [
      "Which dice do you want to reroll? (Enter positions separated by spaces, or 'n' for no rerolls):  n\n"
     ]
    },
    {
     "name": "stdout",
     "output_type": "stream",
     "text": [
      "No rerolls selected\n",
      "ones:your value:2\n",
      "twos:your value:2\n",
      "threes:your value:3\n",
      "fives:your value:5\n",
      "sixes:your value:6\n",
      "one pair:your value:2\n",
      "chance:your value:18\n",
      "\n",
      "Proceeding to category choice...\n"
     ]
    },
    {
     "name": "stdin",
     "output_type": "stream",
     "text": [
      "Enter a category:  chance\n"
     ]
    },
    {
     "name": "stdout",
     "output_type": "stream",
     "text": [
      "You scored 18 points in the chance\n",
      "Category: chance, Score: 18\n",
      "\n",
      "Liam:\n",
      "SCOREBOARD\n",
      "ones:1\n",
      "twos:0\n",
      "threes:6\n",
      "fours:4\n",
      "fives:0\n",
      "sixes:6\n",
      "one pair:10\n",
      "two pairs:12\n",
      "three of a kind:0\n",
      "four of a kind:0\n",
      "five of a kind:0\n",
      "small straight:15\n",
      "large straight:0\n",
      "fullstraight:     \n",
      "villa:     \n",
      "tower:0\n",
      "full house:0\n",
      "chance:18\n",
      "yatzy:     \n",
      "\n",
      "Your current total score is: 72\n",
      "achilles's TURN\n",
      "Current roll: [2, 3, 1, 2, 1, 6]\n"
     ]
    },
    {
     "name": "stdin",
     "output_type": "stream",
     "text": [
      "Which dice do you want to reroll? (Enter positions separated by spaces, or 'n' for no rerolls):  n\n"
     ]
    },
    {
     "name": "stdout",
     "output_type": "stream",
     "text": [
      "No rerolls selected\n",
      "ones:your value:2\n",
      "twos:your value:4\n",
      "threes:your value:3\n",
      "sixes:your value:6\n",
      "one pair:your value:4\n",
      "two pairs:your value:6\n",
      "chance:your value:15\n",
      "\n",
      "Proceeding to category choice...\n"
     ]
    },
    {
     "name": "stdin",
     "output_type": "stream",
     "text": [
      "Enter a category:  five of a kind\n"
     ]
    },
    {
     "name": "stdout",
     "output_type": "stream",
     "text": [
      "You scored 0 points in the five of a kind\n",
      "Category: five of a kind, Score: 0\n",
      "\n",
      "Achilles:\n",
      "SCOREBOARD\n",
      "ones:0\n",
      "twos:2\n",
      "threes:0\n",
      "fours:12\n",
      "fives:10\n",
      "sixes:12\n",
      "one pair:4\n",
      "two pairs:12\n",
      "three of a kind:0\n",
      "four of a kind:0\n",
      "five of a kind:0\n",
      "small straight:0\n",
      "large straight:0\n",
      "fullstraight:0\n",
      "villa:0\n",
      "tower:0\n",
      "full house:0\n",
      "chance:     \n",
      "yatzy:     \n",
      "\n",
      "Your current total score is: 52\n",
      "liam's TURN\n",
      "Current roll: [1, 6, 1, 5, 1, 1]\n"
     ]
    },
    {
     "name": "stdin",
     "output_type": "stream",
     "text": [
      "Which dice do you want to reroll? (Enter positions separated by spaces, or 'n' for no rerolls):  n\n"
     ]
    },
    {
     "name": "stdout",
     "output_type": "stream",
     "text": [
      "No rerolls selected\n",
      "ones:your value:4\n",
      "fives:your value:5\n",
      "sixes:your value:6\n",
      "one pair:your value:2\n",
      "three of a kind:your value:3\n",
      "four of a kind:your value:4\n",
      "tower:your value:15\n",
      "chance:your value:15\n",
      "\n",
      "Proceeding to category choice...\n"
     ]
    },
    {
     "name": "stdin",
     "output_type": "stream",
     "text": [
      "Enter a category:  yatzy\n"
     ]
    },
    {
     "name": "stdout",
     "output_type": "stream",
     "text": [
      "You scored 0 points in the yatzy\n",
      "Category: yatzy, Score: 0\n",
      "\n",
      "Liam:\n",
      "SCOREBOARD\n",
      "ones:1\n",
      "twos:0\n",
      "threes:6\n",
      "fours:4\n",
      "fives:0\n",
      "sixes:6\n",
      "one pair:10\n",
      "two pairs:12\n",
      "three of a kind:0\n",
      "four of a kind:0\n",
      "five of a kind:0\n",
      "small straight:15\n",
      "large straight:0\n",
      "fullstraight:     \n",
      "villa:     \n",
      "tower:0\n",
      "full house:0\n",
      "chance:18\n",
      "yatzy:0\n",
      "\n",
      "Your current total score is: 72\n",
      "achilles's TURN\n",
      "Current roll: [1, 3, 6, 4, 5, 5]\n"
     ]
    },
    {
     "name": "stdin",
     "output_type": "stream",
     "text": [
      "Which dice do you want to reroll? (Enter positions separated by spaces, or 'n' for no rerolls):  n\n"
     ]
    },
    {
     "name": "stdout",
     "output_type": "stream",
     "text": [
      "No rerolls selected\n",
      "ones:your value:1\n",
      "threes:your value:3\n",
      "fours:your value:4\n",
      "fives:your value:10\n",
      "sixes:your value:6\n",
      "one pair:your value:10\n",
      "chance:your value:24\n",
      "\n",
      "Proceeding to category choice...\n"
     ]
    },
    {
     "name": "stdin",
     "output_type": "stream",
     "text": [
      "Enter a category:  yatzy\n"
     ]
    },
    {
     "name": "stdout",
     "output_type": "stream",
     "text": [
      "You scored 0 points in the yatzy\n",
      "Category: yatzy, Score: 0\n",
      "\n",
      "Achilles:\n",
      "SCOREBOARD\n",
      "ones:0\n",
      "twos:2\n",
      "threes:0\n",
      "fours:12\n",
      "fives:10\n",
      "sixes:12\n",
      "one pair:4\n",
      "two pairs:12\n",
      "three of a kind:0\n",
      "four of a kind:0\n",
      "five of a kind:0\n",
      "small straight:0\n",
      "large straight:0\n",
      "fullstraight:0\n",
      "villa:0\n",
      "tower:0\n",
      "full house:0\n",
      "chance:     \n",
      "yatzy:0\n",
      "\n",
      "Your current total score is: 52\n",
      "liam's TURN\n",
      "Current roll: [4, 1, 4, 5, 4, 5]\n"
     ]
    },
    {
     "name": "stdin",
     "output_type": "stream",
     "text": [
      "Which dice do you want to reroll? (Enter positions separated by spaces, or 'n' for no rerolls):  n\n"
     ]
    },
    {
     "name": "stdout",
     "output_type": "stream",
     "text": [
      "No rerolls selected\n",
      "ones:your value:1\n",
      "fours:your value:12\n",
      "fives:your value:10\n",
      "one pair:your value:10\n",
      "two pairs:your value:18\n",
      "three of a kind:your value:12\n",
      "chance:your value:23\n",
      "\n",
      "Proceeding to category choice...\n"
     ]
    },
    {
     "name": "stdin",
     "output_type": "stream",
     "text": [
      "Enter a category:  villa\n"
     ]
    },
    {
     "name": "stdout",
     "output_type": "stream",
     "text": [
      "You scored 0 points in the villa\n",
      "Category: villa, Score: 0\n",
      "\n",
      "Liam:\n",
      "SCOREBOARD\n",
      "ones:1\n",
      "twos:0\n",
      "threes:6\n",
      "fours:4\n",
      "fives:0\n",
      "sixes:6\n",
      "one pair:10\n",
      "two pairs:12\n",
      "three of a kind:0\n",
      "four of a kind:0\n",
      "five of a kind:0\n",
      "small straight:15\n",
      "large straight:0\n",
      "fullstraight:     \n",
      "villa:0\n",
      "tower:0\n",
      "full house:0\n",
      "chance:18\n",
      "yatzy:0\n",
      "\n",
      "Your current total score is: 72\n",
      "achilles's TURN\n",
      "Current roll: [2, 3, 6, 1, 3, 6]\n"
     ]
    },
    {
     "name": "stdin",
     "output_type": "stream",
     "text": [
      "Which dice do you want to reroll? (Enter positions separated by spaces, or 'n' for no rerolls):  n\n"
     ]
    },
    {
     "name": "stdout",
     "output_type": "stream",
     "text": [
      "No rerolls selected\n",
      "ones:your value:1\n",
      "twos:your value:2\n",
      "threes:your value:6\n",
      "sixes:your value:12\n",
      "one pair:your value:12\n",
      "two pairs:your value:18\n",
      "chance:your value:21\n",
      "\n",
      "Proceeding to category choice...\n"
     ]
    },
    {
     "name": "stdin",
     "output_type": "stream",
     "text": [
      "Enter a category:  chance\n"
     ]
    },
    {
     "name": "stdout",
     "output_type": "stream",
     "text": [
      "You scored 21 points in the chance\n",
      "Category: chance, Score: 21\n",
      "\n",
      "Achilles:\n",
      "SCOREBOARD\n",
      "ones:0\n",
      "twos:2\n",
      "threes:0\n",
      "fours:12\n",
      "fives:10\n",
      "sixes:12\n",
      "one pair:4\n",
      "two pairs:12\n",
      "three of a kind:0\n",
      "four of a kind:0\n",
      "five of a kind:0\n",
      "small straight:0\n",
      "large straight:0\n",
      "fullstraight:0\n",
      "villa:0\n",
      "tower:0\n",
      "full house:0\n",
      "chance:21\n",
      "yatzy:0\n",
      "\n",
      "Your current total score is: 73\n",
      "liam's TURN\n",
      "Current roll: [4, 6, 2, 5, 3, 3]\n"
     ]
    },
    {
     "name": "stdin",
     "output_type": "stream",
     "text": [
      "Which dice do you want to reroll? (Enter positions separated by spaces, or 'n' for no rerolls):  n\n"
     ]
    },
    {
     "name": "stdout",
     "output_type": "stream",
     "text": [
      "No rerolls selected\n",
      "twos:your value:2\n",
      "threes:your value:6\n",
      "fours:your value:4\n",
      "fives:your value:5\n",
      "sixes:your value:6\n",
      "one pair:your value:6\n",
      "large straight:your value:20\n",
      "chance:your value:23\n",
      "\n",
      "Proceeding to category choice...\n"
     ]
    },
    {
     "name": "stdin",
     "output_type": "stream",
     "text": [
      "Enter a category:  tower\n"
     ]
    },
    {
     "name": "stdout",
     "output_type": "stream",
     "text": [
      "This category is filled, choose a different one\n",
      "Either all categories are filled or invalid category. Try again.\n"
     ]
    },
    {
     "name": "stdin",
     "output_type": "stream",
     "text": [
      "Enter a category:  full straight\n"
     ]
    },
    {
     "name": "stdout",
     "output_type": "stream",
     "text": [
      "Invalid category, try again\n",
      "Either all categories are filled or invalid category. Try again.\n"
     ]
    },
    {
     "name": "stdin",
     "output_type": "stream",
     "text": [
      "Enter a category:  fullstraight\n"
     ]
    },
    {
     "name": "stdout",
     "output_type": "stream",
     "text": [
      "You scored 0 points in the fullstraight\n",
      "Category: fullstraight, Score: 0\n",
      "\n",
      "Liam:\n",
      "SCOREBOARD\n",
      "ones:1\n",
      "twos:0\n",
      "threes:6\n",
      "fours:4\n",
      "fives:0\n",
      "sixes:6\n",
      "one pair:10\n",
      "two pairs:12\n",
      "three of a kind:0\n",
      "four of a kind:0\n",
      "five of a kind:0\n",
      "small straight:15\n",
      "large straight:0\n",
      "fullstraight:0\n",
      "villa:0\n",
      "tower:0\n",
      "full house:0\n",
      "chance:18\n",
      "yatzy:0\n",
      "\n",
      "Your current total score is: 72\n",
      "achilles receives 0 points as bonus\n",
      "liam receives 0 points as bonus\n"
     ]
    },
    {
     "ename": "FileNotFoundError",
     "evalue": "[Errno 2] No such file or directory: 'highscore.txt'",
     "output_type": "error",
     "traceback": [
      "\u001b[0;31m---------------------------------------------------------------------------\u001b[0m",
      "\u001b[0;31mFileNotFoundError\u001b[0m                         Traceback (most recent call last)",
      "File \u001b[0;32m~/assignments/maxiscoring.py:187\u001b[0m, in \u001b[0;36muploadhighscore2\u001b[0;34m(highscorename, highscore)\u001b[0m\n\u001b[1;32m    186\u001b[0m \u001b[38;5;28;01mtry\u001b[39;00m:\n\u001b[0;32m--> 187\u001b[0m     \u001b[38;5;28;01mwith\u001b[39;00m \u001b[38;5;28;43mopen\u001b[39;49m\u001b[43m(\u001b[49m\u001b[38;5;124;43m'\u001b[39;49m\u001b[38;5;124;43mhighscore.txt\u001b[39;49m\u001b[38;5;124;43m'\u001b[39;49m\u001b[43m,\u001b[49m\u001b[38;5;124;43m'\u001b[39;49m\u001b[38;5;124;43mr\u001b[39;49m\u001b[38;5;124;43m'\u001b[39;49m\u001b[43m)\u001b[49m \u001b[38;5;28;01mas\u001b[39;00m file:\n\u001b[1;32m    188\u001b[0m         lines \u001b[38;5;241m=\u001b[39m file\u001b[38;5;241m.\u001b[39mreadlines()\n",
      "\u001b[0;31mFileNotFoundError\u001b[0m: [Errno 2] No such file or directory: 'highscore.txt'",
      "\nDuring handling of the above exception, another exception occurred:\n",
      "\u001b[0;31mFileNotFoundError\u001b[0m                         Traceback (most recent call last)",
      "Cell \u001b[0;32mIn[2], line 135\u001b[0m\n\u001b[1;32m    132\u001b[0m         \u001b[38;5;28mprint\u001b[39m(\u001b[38;5;124mf\u001b[39m\u001b[38;5;124m'\u001b[39m\u001b[38;5;132;01m{\u001b[39;00mplayer\u001b[38;5;132;01m}\u001b[39;00m\u001b[38;5;124m:\u001b[39m\u001b[38;5;132;01m{\u001b[39;00mscore\u001b[38;5;132;01m}\u001b[39;00m\u001b[38;5;124m'\u001b[39m)\n\u001b[1;32m    133\u001b[0m     \u001b[38;5;28mprint\u001b[39m(\u001b[38;5;124mf\u001b[39m\u001b[38;5;124m'\u001b[39m\u001b[38;5;130;01m\\n\u001b[39;00m\u001b[38;5;124m<||>\u001b[39m\u001b[38;5;132;01m{\u001b[39;00mwinner\u001b[38;5;132;01m}\u001b[39;00m\u001b[38;5;124m wins the game with a total of \u001b[39m\u001b[38;5;132;01m{\u001b[39;00mtopscore\u001b[38;5;132;01m}\u001b[39;00m\u001b[38;5;124m points<||>\u001b[39m\u001b[38;5;124m'\u001b[39m)\n\u001b[0;32m--> 135\u001b[0m \u001b[43mmenu\u001b[49m\u001b[43m(\u001b[49m\u001b[43m)\u001b[49m\n",
      "Cell \u001b[0;32mIn[2], line 127\u001b[0m, in \u001b[0;36mmenu\u001b[0;34m()\u001b[0m\n\u001b[1;32m    125\u001b[0m     highscorevalue, highscorename \u001b[38;5;241m=\u001b[39m highscore(totalscore[player], player)\n\u001b[1;32m    126\u001b[0m \u001b[38;5;28;01mif\u001b[39;00m highscorename:\n\u001b[0;32m--> 127\u001b[0m     \u001b[43muploadhighscore2\u001b[49m\u001b[43m(\u001b[49m\u001b[43mhighscorename\u001b[49m\u001b[43m,\u001b[49m\u001b[43m \u001b[49m\u001b[43mhighscorevalue\u001b[49m\u001b[43m)\u001b[49m \n\u001b[1;32m    128\u001b[0m \u001b[38;5;28mprint\u001b[39m(\u001b[38;5;124m'\u001b[39m\u001b[38;5;130;01m\\n\u001b[39;00m\u001b[38;5;124m FINAL SCORES:\u001b[39m\u001b[38;5;124m'\u001b[39m)\n\u001b[1;32m    129\u001b[0m sortedscore\u001b[38;5;241m=\u001b[39m\u001b[38;5;28msorted\u001b[39m(totalscore\u001b[38;5;241m.\u001b[39mitems(),key\u001b[38;5;241m=\u001b[39m\u001b[38;5;28;01mlambda\u001b[39;00m item: item[\u001b[38;5;241m1\u001b[39m],reverse\u001b[38;5;241m=\u001b[39m\u001b[38;5;28;01mTrue\u001b[39;00m)\n",
      "File \u001b[0;32m~/assignments/maxiscoring.py:203\u001b[0m, in \u001b[0;36muploadhighscore2\u001b[0;34m(highscorename, highscore)\u001b[0m\n\u001b[1;32m    201\u001b[0m             file\u001b[38;5;241m.\u001b[39mwrite(\u001b[38;5;124mf\u001b[39m\u001b[38;5;124m'\u001b[39m\u001b[38;5;132;01m{\u001b[39;00mname\u001b[38;5;132;01m}\u001b[39;00m\u001b[38;5;124m:\u001b[39m\u001b[38;5;132;01m{\u001b[39;00mscore\u001b[38;5;132;01m}\u001b[39;00m\u001b[38;5;130;01m\\n\u001b[39;00m\u001b[38;5;124m'\u001b[39m)\n\u001b[1;32m    202\u001b[0m \u001b[38;5;28;01mexcept\u001b[39;00m \u001b[38;5;167;01mFileNotFoundError\u001b[39;00m:\n\u001b[0;32m--> 203\u001b[0m     \u001b[38;5;28;01mwith\u001b[39;00m \u001b[38;5;28;43mopen\u001b[39;49m\u001b[43m(\u001b[49m\u001b[38;5;124;43m'\u001b[39;49m\u001b[38;5;124;43mhighscore.txt\u001b[39;49m\u001b[38;5;124;43m'\u001b[39;49m\u001b[43m,\u001b[49m\u001b[38;5;124;43m'\u001b[39;49m\u001b[38;5;124;43mr\u001b[39;49m\u001b[38;5;124;43m'\u001b[39;49m\u001b[43m)\u001b[49m \u001b[38;5;28;01mas\u001b[39;00m file:\n\u001b[1;32m    204\u001b[0m         file\u001b[38;5;241m.\u001b[39mwrite(\u001b[38;5;124mf\u001b[39m\u001b[38;5;124m'\u001b[39m\u001b[38;5;132;01m{\u001b[39;00mname\u001b[38;5;132;01m}\u001b[39;00m\u001b[38;5;124m:\u001b[39m\u001b[38;5;132;01m{\u001b[39;00mscore\u001b[38;5;132;01m}\u001b[39;00m\u001b[38;5;130;01m\\n\u001b[39;00m\u001b[38;5;124m'\u001b[39m)\n",
      "\u001b[0;31mFileNotFoundError\u001b[0m: [Errno 2] No such file or directory: 'highscore.txt'"
     ]
    }
   ],
   "source": [
    "from maxiposibility import *\n",
    "from maxiboard import *\n",
    "from maxiscoring import *\n",
    "#imports all functions from all pyfiles\n",
    "def menu():\n",
    "\n",
    "    filledcategories = {}\n",
    "    totalscore = {}\n",
    "    playerscore = {}\n",
    "    playernames = []\n",
    "    filledcategories_all = {}\n",
    "\n",
    "\n",
    "    #Error handling input for player count while asking for number of players as input\n",
    "    while True:\n",
    "        try:\n",
    "            nplayers = int(input('Enter the number of players: '))\n",
    "            if nplayers <= 0:\n",
    "                print(\"Please enter a positive number of players.\")\n",
    "                continue\n",
    "            break  # Exit loop if valid\n",
    "        except ValueError:\n",
    "            print(\"Invalid input. Please enter a number.\")\n",
    "\n",
    "    #error handling for name input for the players while appending the player names to a list\n",
    "\n",
    "    for member in range(nplayers):\n",
    "        while True:\n",
    "            player = input(f'Enter a name for player {member + 1}: ').strip()\n",
    "            if not player:\n",
    "                print(\"Player name cannot be empty. Please enter a valid name.\")\n",
    "            elif player in playernames:\n",
    "                print(f\"Name '{player}' is already taken. Please choose a different name.\")\n",
    "            else:\n",
    "                playernames.append(player)  # Only add once, inside the validation loop\n",
    "                break  \n",
    "\n",
    "        playerscore[player] = {}\n",
    "        totalscore[player] = 0\n",
    "        filledcategories_all[player] = {}\n",
    "\n",
    "    #initialization of player score for specific player and total score as well for each category \n",
    "    global highscorename,highscorevalue\n",
    "    highscorename,highscorevalue = highscoreinstall()\n",
    "    #error handling for installed highscore from previous game if non highscore values are returned\n",
    "    if highscorename == '':\n",
    "        print('no available highscore')\n",
    "    else:\n",
    "        print(f'the current highscore is {highscorename}:{highscorevalue}')\n",
    "\n",
    "    gamefinished = 0\n",
    "    try:\n",
    "        while gamefinished == 0:\n",
    "            gamefinished = 1  #initializes game is finished unless proven otherwise\n",
    "            for player in playernames:\n",
    "                if len(filledcategories_all[player]) < 19:  #checks if player has categories left to fill\n",
    "                    gamefinished = 0  #initializes gamefinished to 0 if at least one player has categories left\n",
    "                    print(f'{player}\\'s TURN')\n",
    "                    cast0 = diceroll([]) #calls diceroll function\n",
    "                    throws = 0\n",
    "                    while throws < 2: #checks for two rerolls by the rules of the game\n",
    "                        print(f'Current roll: {cast0}')\n",
    "                        selection = input(\"Which dice do you want to reroll? (Enter positions separated by spaces, or 'n' for no rerolls): \")\n",
    "                        if selection.lower() == 'n':\n",
    "                            print('No rerolls selected')\n",
    "                            posibilities(cast0)\n",
    "                            break  #goes to category choice if 'n' is selected\n",
    "\n",
    "                        try:\n",
    "                            replaceindices = list(map(int, selection.split()))\n",
    "                            if all(1 <= i <= len(cast0) for i in replaceindices):\n",
    "                                for i in replaceindices:\n",
    "                                    cast0[i - 1] = 9  #placement holder for dicevalues that are to be rerolled\n",
    "                            else:\n",
    "                                print('Invalid dice positions. Try again.')\n",
    "                                continue  \n",
    "                        except ValueError:\n",
    "                            print('Invalid input. Please enter numbers separated by spaces, or enter \"n\" to skip.')\n",
    "                            continue\n",
    "\n",
    "                        #performs the reroll\n",
    "                        cast0 = diceroll(cast0)\n",
    "                        throws += 1\n",
    "                        print(f'Your new roll: {cast0}')\n",
    "                        posibilities(cast0)\n",
    "\n",
    "                        if throws < 2:\n",
    "                            reroll_prompt = input(\"Would you like to reroll again? (y/n): \")\n",
    "                            if reroll_prompt.lower() == 'n':\n",
    "                                break  # Break here to go to category choice if \"n\" is chosen\n",
    "\n",
    "                    print('\\nProceeding to category choice...')\n",
    "                    print(f'\\n|{player.capitalize()}|')\n",
    "                    print(displayscoreboard(filledcategories_all[player])) #calls display board function for the specific player\n",
    "                    category_chosen = False #initializes category as false and then initializes it as true after it was chosen and scored succesfully \n",
    "                    \n",
    "                    while not category_chosen:  \n",
    "                        result, updated_categories = categorychoice(filledcategories_all[player], cast0) #tuple for the result and the category\n",
    "                        print(result)\n",
    "                        if \"scored\" in result:  #suceess message for scoring showing that the category was scored correctly\n",
    "                            for category in updated_categories:\n",
    "                                if category not in playerscore[player]: #checks if the category is in the newly scored categories as well as wether its in \n",
    "                                    score = updated_categories[category]\n",
    "                                    playerscore[player][category] = score\n",
    "                                    totalscore[player] += score\n",
    "                                    print(f'Category: {category}, Score: {score}')\n",
    "                            category_chosen = True\n",
    "                            break \n",
    "                        else:\n",
    "                            print('Either all categories are filled or invalid category. Try again.')\n",
    "                    print(f'\\n|{player.capitalize()}|')\n",
    "                    print(displayscoreboard(filledcategories_all[player]))\n",
    "                    print(f'Your current total score is: {totalscore[player]}')\n",
    "\n",
    "    except Exception as e:\n",
    "        print(f\"An unexpected error occurred: {e}. Please try again.\")\n",
    "\n",
    "\n",
    "\n",
    "    #iterates through player and scores for the name and calls the bonus check function then adds the bonus to the players total score if the achieved the bonus \n",
    "    for player in playernames:\n",
    "        bonus = bonuscheck(playerscore[player])\n",
    "        totalscore[player] += bonus\n",
    "        print(f'{player} receives {bonus} points as bonus')\n",
    "    for player in playernames: # iterates through player names then calls the highscore function to chcek if the players total score is the highest score \n",
    "        highscorevalue, highscorename = highscore(totalscore[player], player)\n",
    "    if highscorename: #if the highscore is identified it calls the highscore upload functiojn\n",
    "        uploadhighscore2(highscorename, highscorevalue) \n",
    "    print('\\n FINAL SCORES:') #sorts the total scores for the players in descending order using sorted() function and reverse=true  in adittion it uses lambda function to specify that the sorting should only take place for the score of each player\n",
    "    sortedscore=sorted(totalscore.items(),key=lambda item: item[1],reverse=True)\n",
    "    winner,topscore=max(sortedscore)\n",
    "    for player,score in sortedscore:\n",
    "        print(f'{player}:{score}')\n",
    "    print(f'\\n<||>{winner} wins the game with a total of {topscore} points<||>')\n",
    "\n",
    "menu()"
   ]
  },
  {
   "cell_type": "code",
   "execution_count": null,
   "id": "d7e2fe72-f946-4ea1-b0d2-274ae908799b",
   "metadata": {},
   "outputs": [],
   "source": []
  }
 ],
 "metadata": {
  "kernelspec": {
   "display_name": "Python 3 (ipykernel)",
   "language": "python",
   "name": "python3"
  },
  "language_info": {
   "codemirror_mode": {
    "name": "ipython",
    "version": 3
   },
   "file_extension": ".py",
   "mimetype": "text/x-python",
   "name": "python",
   "nbconvert_exporter": "python",
   "pygments_lexer": "ipython3",
   "version": "3.11.9"
  }
 },
 "nbformat": 4,
 "nbformat_minor": 5
}
